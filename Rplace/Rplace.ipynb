{
 "cells": [
  {
   "cell_type": "code",
   "execution_count": 18,
   "id": "73c041ea-c261-4838-bfab-2ca31fe98cf5",
   "metadata": {},
   "outputs": [],
   "source": [
    "import numpy as np\n",
    "import random\n",
    "from PIL import Image as im\n",
    "from matplotlib import pyplot as plt\n",
    "import imageio as iio"
   ]
  },
  {
   "cell_type": "code",
   "execution_count": 2,
   "id": "341e2d80-6096-4f18-a241-9c02e3078755",
   "metadata": {},
   "outputs": [],
   "source": [
    "#Paramètres:\n",
    "\n",
    "cote_canvas = 64 #Taille du coté du canvas\n",
    "matrice_modele1 = np.full((cote_canvas, cote_canvas), 1)\n",
    "matrice_modele2 = np.full((cote_canvas, cote_canvas), 2)\n",
    "canvas = np.zeros((cote_canvas, cote_canvas), dtype=np.uint8)\n",
    "\n",
    "#Pour les listes:\n",
    "ind_nb_agents = 0\n",
    "ind_tecp = 1 #Temps entre chaque pixel\n",
    "ind_nb_correct_chance = 2 #Pourcentage de chance de placer un bon pixel\n",
    "ind_couleur = 3\n"
   ]
  },
  {
   "cell_type": "code",
   "execution_count": 3,
   "id": "6e022fce-d37a-4918-bc3d-983d96c94bc4",
   "metadata": {},
   "outputs": [],
   "source": [
    "def plot_show(canvas, i):\n",
    "    \"\"\"sauvergarde un png du canvas dans le dossier images.\"\"\"\n",
    "    image = np.zeros((cote_canvas, cote_canvas, 3), dtype=np.uint8)\n",
    "    color = {0: [255, 255, 255], 1: [255, 0, 0], 2: [0, 255, 0]}\n",
    "    image[canvas == 0] = color[0]\n",
    "    image[canvas == 1] = color[1]\n",
    "    image[canvas == 2] = color[2]\n",
    "    img = im.fromarray(image)\n",
    "    img.save(f\"images/{i}.png\")"
   ]
  },
  {
   "cell_type": "code",
   "execution_count": 4,
   "id": "0582dcc3",
   "metadata": {},
   "outputs": [],
   "source": [
    "g1 = [100, 5, 0.9, 1]\n",
    "g2 = [200, 7, 0.5, 2]\n",
    "#Un groupe est composé dans l'ordre d'un nombre d'agents, un tecp, une correct chance compris entre 0 et 1, et une couleur.\n",
    "    "
   ]
  },
  {
   "cell_type": "code",
   "execution_count": 5,
   "id": "919ff616",
   "metadata": {},
   "outputs": [],
   "source": [
    "def creer_dict_bon_mauvais_pixel(canvas, matrice_modele1, matrice_modele2):\n",
    "    \"\"\"Ajoute dans un dictionnaire les pixels bons dans bon_pixel et les mauvais dans mauvais_pixel.\n",
    "    Les bons pixels sont les pixels qui doivent être remplacés sur le canvas, et les mauvais sont ceux qui ne doivent pas être touchés\"\"\"\n",
    "    remplacer_pixel_g1 = []\n",
    "    pas_toucher_pixel_g1 = []\n",
    "    remplacer_pixel_g2 = []\n",
    "    pas_toucher_pixel_g2 = []\n",
    "    res = {\"remplacer_g1\": remplacer_pixel_g1, \"pas_toucher_g1\": pas_toucher_pixel_g1, \"remplacer_g2\" : remplacer_pixel_g2, \"pas_toucher_g2\" : pas_toucher_pixel_g2}\n",
    "    \n",
    "    #Remplis le dictionnaire pour le groupe 1, remplit les listes bon_pixel_g1 et mauvais_pixel_g1\n",
    "    for i in range(cote_canvas):\n",
    "        for j in range(cote_canvas):\n",
    "            if(canvas[i][j] != matrice_modele1[i][j]):\n",
    "                res[\"remplacer_g1\"].append((i, j))\n",
    "            else:\n",
    "                res[\"pas_toucher_g1\"].append((i, j))\n",
    "\n",
    "    #Remplis le dictionnaire pour le groupe 2, remplit les listes bon_pixel_g2 et mauvais_pixel_g2\n",
    "    for i in range(cote_canvas):\n",
    "        for j in range(cote_canvas):\n",
    "            if(canvas[i][j] != matrice_modele2[i][j]):\n",
    "                res[\"remplacer_g2\"].append((i, j))\n",
    "            else:\n",
    "                res[\"pas_toucher_g2\"].append((i, j))\n",
    "    \n",
    "    return res     "
   ]
  },
  {
   "cell_type": "code",
   "execution_count": 6,
   "id": "aecc68ba",
   "metadata": {},
   "outputs": [],
   "source": [
    "\n",
    "dict_bon_mauvais_pixel = creer_dict_bon_mauvais_pixel(canvas, matrice_modele1, matrice_modele2)\n",
    "#dict_bon_mauvais_pixel"
   ]
  },
  {
   "cell_type": "code",
   "execution_count": 7,
   "id": "684c1158",
   "metadata": {},
   "outputs": [],
   "source": [
    "def trouve_bon_pixel_g1(dict_bon_mauvais_pixel):\n",
    "    if dict_bon_mauvais_pixel[\"remplacer_g1\"] == []:\n",
    "        return None\n",
    "    \n",
    "    #Prendre au hasard un pixel dans la liste de ceux à remplacer.\n",
    "    x = int(random.random()*len(dict_bon_mauvais_pixel[\"remplacer_g1\"]))\n",
    "    res = dict_bon_mauvais_pixel[\"remplacer_g1\"][x]\n",
    "\n",
    "    #On retire ce pixel de ceux à remplacer et on le mets dans ceux qu'on doit pas toucher.\n",
    "    dict_bon_mauvais_pixel[\"remplacer_g1\"].remove(res)\n",
    "    dict_bon_mauvais_pixel[\"pas_toucher_g1\"].append(res)\n",
    "\n",
    "    #Si le pixel prit était dans ceux que le g2 ne doit pas toucher alors le mettre dans ceux à remplacer.\n",
    "    if res in dict_bon_mauvais_pixel[\"pas_toucher_g2\"]:\n",
    "        dict_bon_mauvais_pixel[\"remplacer_g2\"].append(res)\n",
    "        dict_bon_mauvais_pixel[\"pas_toucher_g2\"].remove(res)\n",
    "\n",
    "    #Retourner le pixel\n",
    "    return res"
   ]
  },
  {
   "cell_type": "code",
   "execution_count": 8,
   "id": "6033f7a3",
   "metadata": {},
   "outputs": [],
   "source": [
    "def trouve_mauvais_pixel_g1(dict_bon_mauvais_pixel):\n",
    "    \"\"\"Prendre un pixel qui est deja de la bonne couleur puis dans la simulation le repeindre de la meme couleur.\"\"\"\n",
    "    if dict_bon_mauvais_pixel[\"pas_toucher_g1\"] == []:\n",
    "        return None\n",
    "\n",
    "    #On prend un pixel au hasard dans la liste de ceux qu'on doit pas toucher.\n",
    "    x = int(random.random()*len(dict_bon_mauvais_pixel[\"pas_toucher_g1\"]))\n",
    "    return dict_bon_mauvais_pixel[\"pas_toucher_g1\"][x]"
   ]
  },
  {
   "cell_type": "code",
   "execution_count": 9,
   "id": "80b59f8c",
   "metadata": {},
   "outputs": [],
   "source": [
    "def trouve_bon_pixel_g2(dict_bon_mauvais_pixel):\n",
    "    if dict_bon_mauvais_pixel[\"remplacer_g2\"] == []:\n",
    "        return None\n",
    "    \n",
    "    #Prendre au hasard un pixel dans la liste de ceux à remplacer.\n",
    "    x = int(random.random()*len(dict_bon_mauvais_pixel[\"remplacer_g2\"]))\n",
    "    res = dict_bon_mauvais_pixel[\"remplacer_g2\"][x]\n",
    "\n",
    "    #On retire ce pixel de ceux à remplacer et on le mets dans ceux qu'on doit pas toucher.\n",
    "    dict_bon_mauvais_pixel[\"remplacer_g2\"].remove(res)\n",
    "    dict_bon_mauvais_pixel[\"pas_toucher_g2\"].append(res)\n",
    "\n",
    "    #Si le pixel prit était dans ceux que le g1 ne doit pas toucher alors le mettre dans ceux à remplacer.\n",
    "    if res in dict_bon_mauvais_pixel[\"pas_toucher_g1\"]:\n",
    "        dict_bon_mauvais_pixel[\"remplacer_g1\"].append(res)\n",
    "        dict_bon_mauvais_pixel[\"pas_toucher_g1\"].remove(res)\n",
    "        \n",
    "    return res"
   ]
  },
  {
   "cell_type": "code",
   "execution_count": 10,
   "id": "d3501c13",
   "metadata": {},
   "outputs": [],
   "source": [
    "def trouve_mauvais_pixel_g2(dict_bon_mauvais_pixel):\n",
    "    \"\"\"Prendre un pixel qui est deja de la bonne couleur puis dans la simulation le repeindre de la meme couleur.\"\"\"\n",
    "    if dict_bon_mauvais_pixel[\"pas_toucher_g2\"] == []:\n",
    "        return None \n",
    "\n",
    "    #On prend un pixel au hasard dans la liste de ceux qu'on doit pas toucher.\n",
    "    x = int(random.random()*len(dict_bon_mauvais_pixel[\"pas_toucher_g2\"]))\n",
    "    return dict_bon_mauvais_pixel[\"pas_toucher_g2\"][x]\n"
   ]
  },
  {
   "cell_type": "code",
   "execution_count": 11,
   "id": "dce540ee",
   "metadata": {},
   "outputs": [
    {
     "data": {
      "text/plain": [
       "'#Test:\\nfor i in range(50):\\n    trouve_bon_pixel_g1(dict_bon_mauvais_pixel)\\n    trouve_bon_pixel_g1(dict_bon_mauvais_pixel)\\n    trouve_bon_pixel_g1(dict_bon_mauvais_pixel)\\n    trouve_bon_pixel_g1(dict_bon_mauvais_pixel)\\n    trouve_mauvais_pixel_g1(dict_bon_mauvais_pixel)\\n    trouve_bon_pixel_g2(dict_bon_mauvais_pixel)\\n    trouve_mauvais_pixel_g2(dict_bon_mauvais_pixel)\\ndict_bon_mauvais_pixel'"
      ]
     },
     "execution_count": 11,
     "metadata": {},
     "output_type": "execute_result"
    }
   ],
   "source": [
    "\"\"\"#Test:\n",
    "for i in range(50):\n",
    "    trouve_bon_pixel_g1(dict_bon_mauvais_pixel)\n",
    "    trouve_bon_pixel_g1(dict_bon_mauvais_pixel)\n",
    "    trouve_bon_pixel_g1(dict_bon_mauvais_pixel)\n",
    "    trouve_bon_pixel_g1(dict_bon_mauvais_pixel)\n",
    "    trouve_mauvais_pixel_g1(dict_bon_mauvais_pixel)\n",
    "    trouve_bon_pixel_g2(dict_bon_mauvais_pixel)\n",
    "    trouve_mauvais_pixel_g2(dict_bon_mauvais_pixel)\n",
    "dict_bon_mauvais_pixel\"\"\""
   ]
  },
  {
   "cell_type": "code",
   "execution_count": 12,
   "id": "0cb823cd",
   "metadata": {},
   "outputs": [],
   "source": [
    "def simulation(g1, g2, canvas, dict_bon_mauvais_pixel, i):\n",
    "    \"\"\"Fais affonter deux groupes\"\"\"\n",
    "    nb_modifs_par_heure1 = g1[ind_nb_agents] / (g1[ind_tecp]/60)\n",
    "    nb_modifs_par_heure2 = g2[ind_nb_agents] / (g2[ind_tecp]/60)\n",
    "    tmp1 = nb_modifs_par_heure1\n",
    "    tmp2 = nb_modifs_par_heure2\n",
    "    #print(canvas)\n",
    "    plot_show(canvas, i)#Enregistre le canvas a chaque étape dans le dossier images\n",
    "    nb_modifs_par_heure1 = tmp1\n",
    "    nb_modifs_par_heure2 = tmp2\n",
    "    while((nb_modifs_par_heure1 > 0) or (nb_modifs_par_heure2 > 0)): #Tant qu'il reste des pixels à poser\n",
    "        if(nb_modifs_par_heure1 > 0): #si il y a plus de pixels pour le groupe 1, on arrete de poser\n",
    "\n",
    "            #On prend un nombre au hasard, si correct_chance est grand alors y a une grande chance que le nombre pioché au hasard soit inférieur à correct_chance donc une grande chance de poser un pixel bon.\n",
    "            if (random.random() < g1[ind_nb_correct_chance]): #placer un bon pixel.\n",
    "                pixel = trouve_bon_pixel_g1(dict_bon_mauvais_pixel)\n",
    "                if (pixel != None):\n",
    "                    x, y = pixel\n",
    "                    canvas[x][y] = g1[ind_couleur]\n",
    "                    nb_modifs_par_heure1-=1\n",
    "                \n",
    "            else: #Place un mauvais pixel\n",
    "                pixel = trouve_mauvais_pixel_g1(dict_bon_mauvais_pixel)\n",
    "                if (pixel != None):\n",
    "                    x, y = pixel\n",
    "                    canvas[x][y] = g1[ind_couleur]\n",
    "                    nb_modifs_par_heure1-=1\n",
    "            \n",
    "        if(nb_modifs_par_heure2 > 0): #Pareil pour groupe 2\n",
    "                \n",
    "            if (random.random() < g2[ind_nb_correct_chance]):\n",
    "                pixel = trouve_bon_pixel_g2(dict_bon_mauvais_pixel)\n",
    "                if (pixel != None):\n",
    "                        x2, y2= pixel\n",
    "                        canvas[x2][y2] = g2[ind_couleur]\n",
    "                        nb_modifs_par_heure2-=1\n",
    "                \n",
    "            else:\n",
    "                pixel = trouve_mauvais_pixel_g2(dict_bon_mauvais_pixel)\n",
    "                if (pixel != None):\n",
    "                    x2, y2 = pixel\n",
    "                    canvas[x2][y2] = g2[ind_couleur]\n",
    "                    nb_modifs_par_heure2-=1\n",
    "\n"
   ]
  },
  {
   "cell_type": "code",
   "execution_count": 13,
   "id": "68fcfbea",
   "metadata": {},
   "outputs": [],
   "source": [
    "#simulation(g1, g2, matrice_modele1, matrice_modele2, canvas, 24, creer_dict_bon_mauvais_pixel(canvas, matrice_modele1, matrice_modele2,))"
   ]
  },
  {
   "cell_type": "code",
   "execution_count": 14,
   "id": "c41e77c7",
   "metadata": {},
   "outputs": [],
   "source": [
    "def taux_completion(canvas, matrice_modele):\n",
    "    return np.sum(canvas == matrice_modele) / (cote_canvas*cote_canvas)"
   ]
  },
  {
   "cell_type": "code",
   "execution_count": 15,
   "id": "d1a0bae2",
   "metadata": {},
   "outputs": [],
   "source": [
    "#mat = np.full((cote_canvas, cote_canvas), 1)\n",
    "#taux_completion(canvas, mat)"
   ]
  },
  {
   "cell_type": "code",
   "execution_count": 16,
   "id": "624a6377",
   "metadata": {},
   "outputs": [
    {
     "name": "stdout",
     "output_type": "stream",
     "text": [
      "[0.0, 0.179931640625, 0.308837890625, 0.355224609375, 0.36181640625, 0.327392578125, 0.27734375, 0.237548828125, 0.176025390625, 0.1181640625, 0.056884765625, 0.068603515625, 0.06689453125, 0.0703125, 0.06982421875, 0.0703125, 0.0673828125, 0.062744140625, 0.066650390625, 0.06787109375, 0.06787109375, 0.068115234375, 0.072998046875, 0.071533203125]\n"
     ]
    },
    {
     "data": {
      "text/plain": [
       "<matplotlib.legend.Legend at 0x1c316fd1850>"
      ]
     },
     "execution_count": 16,
     "metadata": {},
     "output_type": "execute_result"
    },
    {
     "data": {
      "image/png": "[encoded data removed]",
      "text/plain": [
       "<Figure size 640x480 with 1 Axes>"
      ]
     },
     "metadata": {},
     "output_type": "display_data"
    }
   ],
   "source": [
    "l1 = []\n",
    "l2 = []\n",
    "for i in range(24): #On lance la simulation pour une journée.(24h)\n",
    "    \"\"\"Lance la simulation 24 fois, et on ajouter le taux de completion a chaque boucle dans une liste\"\"\"\n",
    "    l1.append(taux_completion(canvas, matrice_modele1))\n",
    "    l2.append(taux_completion(canvas, matrice_modele2))\n",
    "    simulation(g1, g2, canvas, dict_bon_mauvais_pixel, i)\n",
    "\n",
    "#Affiche d'un graphique du taux de completion en fontion du temps du groupe 1 et 2\n",
    "x = [i for i in range(24)]\n",
    "y1 = l1\n",
    "y2 = l2\n",
    "print(y2)\n",
    "plt.plot(x, y1, label = \"Groupe1\")\n",
    "plt.plot(x, y2, label = \"Groupe2\")\n",
    "plt.xlabel(\"Temps (en heure)\")\n",
    "plt.ylabel(\"Completion (en pourcentage)\")\n",
    "plt.legend()"
   ]
  },
  {
   "cell_type": "code",
   "execution_count": 17,
   "id": "8b1de553",
   "metadata": {},
   "outputs": [
    {
     "name": "stderr",
     "output_type": "stream",
     "text": [
      "C:\\Users\\Utilisateur\\AppData\\Local\\Temp\\ipykernel_13396\\354753499.py:3: DeprecationWarning: Starting with ImageIO v3 the behavior of this function will switch to that of iio.v3.imread. To keep the current behavior (and make this warning disappear) use `import imageio.v2 as imageio` or call `imageio.v2.imread` directly.\n",
      "  frames = np.stack([iio.imread(f\"images/{i}.png\") for i in range(24)], axis = 0)\n"
     ]
    }
   ],
   "source": [
    "#Création du gif:\n",
    "\n",
    "frames = np.stack([iio.imread(f\"images/{i}.png\") for i in range(24)], axis = 0)\n",
    "iio.mimwrite('rplace.gif', frames)\n"
   ]
  },
  {
   "cell_type": "code",
   "execution_count": null,
   "id": "9dda2cc0",
   "metadata": {},
   "outputs": [],
   "source": []
  }
 ],
 "metadata": {
  "kernelspec": {
   "display_name": "Python 3 (ipykernel)",
   "language": "python",
   "name": "python3"
  },
  "language_info": {
   "codemirror_mode": {
    "name": "ipython",
    "version": 3
   },
   "file_extension": ".py",
   "mimetype": "text/x-python",
   "name": "python",
   "nbconvert_exporter": "python",
   "pygments_lexer": "ipython3",
   "version": "3.11.5"
  }
 },
 "nbformat": 4,
 "nbformat_minor": 5
}
