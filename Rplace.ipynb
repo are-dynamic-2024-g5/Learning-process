{
 "cells": [
  {
   "cell_type": "code",
   "execution_count": 6,
   "id": "a2489e32-1454-4541-ba0d-eb467262fcef",
   "metadata": {},
   "outputs": [],
   "source": [
    "## Poser des pixels de façcon optimal."
   ]
  },
  {
   "cell_type": "code",
   "execution_count": 154,
   "id": "73c041ea-c261-4838-bfab-2ca31fe98cf5",
   "metadata": {},
   "outputs": [],
   "source": [
    "import numpy as np\n",
    "import random\n",
    "from PIL import Image as im\n",
    "from matplotlib import pyplot as plt"
   ]
  },
  {
   "cell_type": "code",
   "execution_count": 155,
   "id": "341e2d80-6096-4f18-a241-9c02e3078755",
   "metadata": {},
   "outputs": [],
   "source": [
    "#Paramètres:\n",
    "\n",
    "correct_chance = 0 #chance de placer un bon pixel.\n",
    "cooldown = 0 #Temps entre chaque pixel.\n",
    "taille = 0 #Taille d'un groupe.\n",
    "cote_canvas = 3 #Taille du coté du canvas"
   ]
  },
  {
   "cell_type": "code",
   "execution_count": 156,
   "id": "6c706e42-924c-4315-a6ed-4fa7077232b6",
   "metadata": {},
   "outputs": [],
   "source": [
    "canvas = np.zeros((cote_canvas, cote_canvas, 3), dtype=np.uint8)"
   ]
  },
  {
   "cell_type": "code",
   "execution_count": 169,
   "id": "6e022fce-d37a-4918-bc3d-983d96c94bc4",
   "metadata": {},
   "outputs": [],
   "source": [
    "def plot_show(canvas):\n",
    "    image = np.zeros((cote_canvas, cote_canvas, 3), dtype=np.uint8)\n",
    "    color = {0: [255, 255, 255], 1: [255, 0, 0], 2: [0, 255, 0]}\n",
    "    image[canvas == 0] = color[0]\n",
    "    image[canvas == 1] = color[1]\n",
    "    image[canvas == 2] = color[2]\n",
    "    img = im.fromarray(image)\n",
    "    img.save('output.png')\n",
    "    img.show()"
   ]
  },
  {
   "cell_type": "code",
   "execution_count": 170,
   "id": "7c415667-6796-4640-8c85-92e37c1887f9",
   "metadata": {},
   "outputs": [],
   "source": [
    "def agent(canvas, cote_canvas):\n",
    "    x = int(random.random()*cote_canvas)\n",
    "    y = int(random.random()*cote_canvas)\n",
    "    canvas[x][y] = 1"
   ]
  },
  {
   "cell_type": "code",
   "execution_count": 171,
   "id": "3006b65b-3fc6-41d1-8251-a2660956e603",
   "metadata": {},
   "outputs": [
    {
     "name": "stdout",
     "output_type": "stream",
     "text": [
      "[[1 0 0]\n",
      " [0 0 0]\n",
      " [0 0 0]]\n"
     ]
    }
   ],
   "source": [
    "canvas_test = np.zeros((cote_canvas, cote_canvas), dtype=np.uint8)\n",
    "agent(canvas_test, 3)\n",
    "print(canvas_test)"
   ]
  },
  {
   "cell_type": "code",
   "execution_count": 172,
   "id": "a85e774c-b755-4b25-bc24-b17eab2622c9",
   "metadata": {},
   "outputs": [],
   "source": [
    "plot_show(canvas_test)"
   ]
  },
  {
   "cell_type": "code",
   "execution_count": null,
   "id": "6ce05dd8-7da5-4f24-9ddc-51b9ae61bca5",
   "metadata": {},
   "outputs": [],
   "source": []
  },
  {
   "cell_type": "code",
   "execution_count": null,
   "id": "9cde8e01-31f3-4389-8861-b763aa86e4d5",
   "metadata": {},
   "outputs": [],
   "source": []
  }
 ],
 "metadata": {
  "kernelspec": {
   "display_name": "Python 3 (ipykernel)",
   "language": "python",
   "name": "python3"
  },
  "language_info": {
   "codemirror_mode": {
    "name": "ipython",
    "version": 3
   },
   "file_extension": ".py",
   "mimetype": "text/x-python",
   "name": "python",
   "nbconvert_exporter": "python",
   "pygments_lexer": "ipython3",
   "version": "3.9.6"
  }
 },
 "nbformat": 4,
 "nbformat_minor": 5
}
